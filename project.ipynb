{
 "cells": [
  {
   "cell_type": "markdown",
   "id": "7789c956-534a-4761-bbbb-48cb050cf26a",
   "metadata": {},
   "source": [
    "# DA Final project:\n",
    "\n",
    "# Obesity\n",
    "\n",
    "###  Name of students:\n",
    "\n",
    "##### Lavi Tal\n",
    "##### Omeisy Nadav\n",
    "##### Peretz Nitzan\n",
    "\n",
    "<div>\n",
    "<img src = \"https://github.com/omeysi1/project1/blob/main/IMG_8873.jpg?raw=true\" width=\"900\"/> \n",
    "</div>\n",
    "\n",
    "\n"
   ]
  },
  {
   "cell_type": "markdown",
   "id": "76f6647a-d848-4b8b-9864-7cb0070d3838",
   "metadata": {},
   "source": [
    "# <b id=\"section_2\">  </b> <b style='color:#F05454'>1. Relevant libraries </b> <b></b> "
   ]
  },
  {
   "cell_type": "code",
   "execution_count": 1,
   "id": "ea6d913c-f377-4b3d-b9c6-3dc44b6a265b",
   "metadata": {},
   "outputs": [],
   "source": [
    "import pandas as pd\n",
    "import matplotlib.pyplot as plt\n",
    "import seaborn as sns\n",
    "import plotly.express as px\n",
    "\n",
    "import numpy as np\n",
    "import requests\n",
    "from IPython.display import Image"
   ]
  },
  {
   "cell_type": "markdown",
   "id": "44e09e6a-2ba1-4249-ac65-54a8d37a1d06",
   "metadata": {},
   "source": [
    "# <b id=\"section_2\">  </b> <b style='color:#F05454'>2. dtypes & info </b> <b></b> "
   ]
  },
  {
   "cell_type": "markdown",
   "id": "54ec0347-0a7c-4c47-89d9-aaf6199a7125",
   "metadata": {},
   "source": [
    "#### Information on the data\n",
    "The target of our project is to Know what are the factors that influence obesity in order to know what to avoid  <br>taken from [Kaggle](https://www.kaggle.com/datasets/muhramasaputra/obesity-based-on-eating-habits-and-physical-cond)"
   ]
  },
  {
   "cell_type": "code",
   "execution_count": 2,
   "id": "d5d7369b-e7ef-4935-9909-a860c9cce5c0",
   "metadata": {},
   "outputs": [
    {
     "data": {
      "text/plain": [
       "(2111, 19)"
      ]
     },
     "execution_count": 2,
     "metadata": {},
     "output_type": "execute_result"
    }
   ],
   "source": [
    "url = 'https://raw.githubusercontent.com/omeysi1/project1/main/obesity.csv'\n",
    "ob_df = pd.read_csv(url)\n",
    "ob_df.shape"
   ]
  },
  {
   "cell_type": "code",
   "execution_count": 3,
   "id": "bb9863aa-f4f4-49d9-8fe4-778032555f07",
   "metadata": {},
   "outputs": [
    {
     "data": {
      "text/plain": [
       "Index(['Gender', 'Age', 'family_history_with_overweight', 'FAVC', 'FCVC',\n",
       "       'NCP', 'CAEC', 'SMOKE', 'CH2O', 'SCC', 'FAF', 'TUE', 'CALC',\n",
       "       'Automobile', 'Bike', 'Motorbike', 'Public_Transportation', 'Walking',\n",
       "       'NObeyesdad'],\n",
       "      dtype='object')"
      ]
     },
     "execution_count": 3,
     "metadata": {},
     "output_type": "execute_result"
    }
   ],
   "source": [
    "ob_df.columns"
   ]
  },
  {
   "cell_type": "code",
   "execution_count": 4,
   "id": "44259e7e-9153-4dd6-957f-936723f62317",
   "metadata": {},
   "outputs": [
    {
     "data": {
      "text/html": [
       "<div>\n",
       "<style scoped>\n",
       "    .dataframe tbody tr th:only-of-type {\n",
       "        vertical-align: middle;\n",
       "    }\n",
       "\n",
       "    .dataframe tbody tr th {\n",
       "        vertical-align: top;\n",
       "    }\n",
       "\n",
       "    .dataframe thead th {\n",
       "        text-align: right;\n",
       "    }\n",
       "</style>\n",
       "<table border=\"1\" class=\"dataframe\">\n",
       "  <thead>\n",
       "    <tr style=\"text-align: right;\">\n",
       "      <th></th>\n",
       "      <th>Gender</th>\n",
       "      <th>Age</th>\n",
       "      <th>family_history_with_overweight</th>\n",
       "      <th>FAVC</th>\n",
       "      <th>FCVC</th>\n",
       "      <th>NCP</th>\n",
       "      <th>CAEC</th>\n",
       "      <th>SMOKE</th>\n",
       "      <th>CH2O</th>\n",
       "      <th>SCC</th>\n",
       "      <th>FAF</th>\n",
       "      <th>TUE</th>\n",
       "      <th>CALC</th>\n",
       "      <th>Automobile</th>\n",
       "      <th>Bike</th>\n",
       "      <th>Motorbike</th>\n",
       "      <th>Public_Transportation</th>\n",
       "      <th>Walking</th>\n",
       "      <th>NObeyesdad</th>\n",
       "    </tr>\n",
       "  </thead>\n",
       "  <tbody>\n",
       "    <tr>\n",
       "      <th>0</th>\n",
       "      <td>0</td>\n",
       "      <td>21.000000</td>\n",
       "      <td>1</td>\n",
       "      <td>0</td>\n",
       "      <td>2.0</td>\n",
       "      <td>3.0</td>\n",
       "      <td>1</td>\n",
       "      <td>0</td>\n",
       "      <td>2.000000</td>\n",
       "      <td>0</td>\n",
       "      <td>0.000000</td>\n",
       "      <td>1.000000</td>\n",
       "      <td>0</td>\n",
       "      <td>0</td>\n",
       "      <td>0</td>\n",
       "      <td>0</td>\n",
       "      <td>1</td>\n",
       "      <td>0</td>\n",
       "      <td>0</td>\n",
       "    </tr>\n",
       "    <tr>\n",
       "      <th>1</th>\n",
       "      <td>0</td>\n",
       "      <td>21.000000</td>\n",
       "      <td>1</td>\n",
       "      <td>0</td>\n",
       "      <td>3.0</td>\n",
       "      <td>3.0</td>\n",
       "      <td>1</td>\n",
       "      <td>1</td>\n",
       "      <td>3.000000</td>\n",
       "      <td>1</td>\n",
       "      <td>3.000000</td>\n",
       "      <td>0.000000</td>\n",
       "      <td>1</td>\n",
       "      <td>0</td>\n",
       "      <td>0</td>\n",
       "      <td>0</td>\n",
       "      <td>1</td>\n",
       "      <td>0</td>\n",
       "      <td>0</td>\n",
       "    </tr>\n",
       "    <tr>\n",
       "      <th>2</th>\n",
       "      <td>1</td>\n",
       "      <td>23.000000</td>\n",
       "      <td>1</td>\n",
       "      <td>0</td>\n",
       "      <td>2.0</td>\n",
       "      <td>3.0</td>\n",
       "      <td>1</td>\n",
       "      <td>0</td>\n",
       "      <td>2.000000</td>\n",
       "      <td>0</td>\n",
       "      <td>2.000000</td>\n",
       "      <td>1.000000</td>\n",
       "      <td>2</td>\n",
       "      <td>0</td>\n",
       "      <td>0</td>\n",
       "      <td>0</td>\n",
       "      <td>1</td>\n",
       "      <td>0</td>\n",
       "      <td>0</td>\n",
       "    </tr>\n",
       "    <tr>\n",
       "      <th>3</th>\n",
       "      <td>1</td>\n",
       "      <td>27.000000</td>\n",
       "      <td>0</td>\n",
       "      <td>0</td>\n",
       "      <td>3.0</td>\n",
       "      <td>3.0</td>\n",
       "      <td>1</td>\n",
       "      <td>0</td>\n",
       "      <td>2.000000</td>\n",
       "      <td>0</td>\n",
       "      <td>2.000000</td>\n",
       "      <td>0.000000</td>\n",
       "      <td>2</td>\n",
       "      <td>0</td>\n",
       "      <td>0</td>\n",
       "      <td>0</td>\n",
       "      <td>0</td>\n",
       "      <td>1</td>\n",
       "      <td>0</td>\n",
       "    </tr>\n",
       "    <tr>\n",
       "      <th>4</th>\n",
       "      <td>1</td>\n",
       "      <td>22.000000</td>\n",
       "      <td>0</td>\n",
       "      <td>0</td>\n",
       "      <td>2.0</td>\n",
       "      <td>1.0</td>\n",
       "      <td>1</td>\n",
       "      <td>0</td>\n",
       "      <td>2.000000</td>\n",
       "      <td>0</td>\n",
       "      <td>0.000000</td>\n",
       "      <td>0.000000</td>\n",
       "      <td>1</td>\n",
       "      <td>0</td>\n",
       "      <td>0</td>\n",
       "      <td>0</td>\n",
       "      <td>1</td>\n",
       "      <td>0</td>\n",
       "      <td>0</td>\n",
       "    </tr>\n",
       "    <tr>\n",
       "      <th>...</th>\n",
       "      <td>...</td>\n",
       "      <td>...</td>\n",
       "      <td>...</td>\n",
       "      <td>...</td>\n",
       "      <td>...</td>\n",
       "      <td>...</td>\n",
       "      <td>...</td>\n",
       "      <td>...</td>\n",
       "      <td>...</td>\n",
       "      <td>...</td>\n",
       "      <td>...</td>\n",
       "      <td>...</td>\n",
       "      <td>...</td>\n",
       "      <td>...</td>\n",
       "      <td>...</td>\n",
       "      <td>...</td>\n",
       "      <td>...</td>\n",
       "      <td>...</td>\n",
       "      <td>...</td>\n",
       "    </tr>\n",
       "    <tr>\n",
       "      <th>2106</th>\n",
       "      <td>0</td>\n",
       "      <td>20.976842</td>\n",
       "      <td>1</td>\n",
       "      <td>1</td>\n",
       "      <td>3.0</td>\n",
       "      <td>3.0</td>\n",
       "      <td>1</td>\n",
       "      <td>0</td>\n",
       "      <td>1.728139</td>\n",
       "      <td>0</td>\n",
       "      <td>1.676269</td>\n",
       "      <td>0.906247</td>\n",
       "      <td>1</td>\n",
       "      <td>0</td>\n",
       "      <td>0</td>\n",
       "      <td>0</td>\n",
       "      <td>1</td>\n",
       "      <td>0</td>\n",
       "      <td>1</td>\n",
       "    </tr>\n",
       "    <tr>\n",
       "      <th>2107</th>\n",
       "      <td>0</td>\n",
       "      <td>21.982942</td>\n",
       "      <td>1</td>\n",
       "      <td>1</td>\n",
       "      <td>3.0</td>\n",
       "      <td>3.0</td>\n",
       "      <td>1</td>\n",
       "      <td>0</td>\n",
       "      <td>2.005130</td>\n",
       "      <td>0</td>\n",
       "      <td>1.341390</td>\n",
       "      <td>0.599270</td>\n",
       "      <td>1</td>\n",
       "      <td>0</td>\n",
       "      <td>0</td>\n",
       "      <td>0</td>\n",
       "      <td>1</td>\n",
       "      <td>0</td>\n",
       "      <td>1</td>\n",
       "    </tr>\n",
       "    <tr>\n",
       "      <th>2108</th>\n",
       "      <td>0</td>\n",
       "      <td>22.524036</td>\n",
       "      <td>1</td>\n",
       "      <td>1</td>\n",
       "      <td>3.0</td>\n",
       "      <td>3.0</td>\n",
       "      <td>1</td>\n",
       "      <td>0</td>\n",
       "      <td>2.054193</td>\n",
       "      <td>0</td>\n",
       "      <td>1.414209</td>\n",
       "      <td>0.646288</td>\n",
       "      <td>1</td>\n",
       "      <td>0</td>\n",
       "      <td>0</td>\n",
       "      <td>0</td>\n",
       "      <td>1</td>\n",
       "      <td>0</td>\n",
       "      <td>1</td>\n",
       "    </tr>\n",
       "    <tr>\n",
       "      <th>2109</th>\n",
       "      <td>0</td>\n",
       "      <td>24.361936</td>\n",
       "      <td>1</td>\n",
       "      <td>1</td>\n",
       "      <td>3.0</td>\n",
       "      <td>3.0</td>\n",
       "      <td>1</td>\n",
       "      <td>0</td>\n",
       "      <td>2.852339</td>\n",
       "      <td>0</td>\n",
       "      <td>1.139107</td>\n",
       "      <td>0.586035</td>\n",
       "      <td>1</td>\n",
       "      <td>0</td>\n",
       "      <td>0</td>\n",
       "      <td>0</td>\n",
       "      <td>1</td>\n",
       "      <td>0</td>\n",
       "      <td>1</td>\n",
       "    </tr>\n",
       "    <tr>\n",
       "      <th>2110</th>\n",
       "      <td>0</td>\n",
       "      <td>23.664709</td>\n",
       "      <td>1</td>\n",
       "      <td>1</td>\n",
       "      <td>3.0</td>\n",
       "      <td>3.0</td>\n",
       "      <td>1</td>\n",
       "      <td>0</td>\n",
       "      <td>2.863513</td>\n",
       "      <td>0</td>\n",
       "      <td>1.026452</td>\n",
       "      <td>0.714137</td>\n",
       "      <td>1</td>\n",
       "      <td>0</td>\n",
       "      <td>0</td>\n",
       "      <td>0</td>\n",
       "      <td>1</td>\n",
       "      <td>0</td>\n",
       "      <td>1</td>\n",
       "    </tr>\n",
       "  </tbody>\n",
       "</table>\n",
       "<p>2111 rows × 19 columns</p>\n",
       "</div>"
      ],
      "text/plain": [
       "      Gender        Age  family_history_with_overweight  FAVC  FCVC  NCP  \\\n",
       "0          0  21.000000                               1     0   2.0  3.0   \n",
       "1          0  21.000000                               1     0   3.0  3.0   \n",
       "2          1  23.000000                               1     0   2.0  3.0   \n",
       "3          1  27.000000                               0     0   3.0  3.0   \n",
       "4          1  22.000000                               0     0   2.0  1.0   \n",
       "...      ...        ...                             ...   ...   ...  ...   \n",
       "2106       0  20.976842                               1     1   3.0  3.0   \n",
       "2107       0  21.982942                               1     1   3.0  3.0   \n",
       "2108       0  22.524036                               1     1   3.0  3.0   \n",
       "2109       0  24.361936                               1     1   3.0  3.0   \n",
       "2110       0  23.664709                               1     1   3.0  3.0   \n",
       "\n",
       "      CAEC  SMOKE      CH2O  SCC       FAF       TUE  CALC  Automobile  Bike  \\\n",
       "0        1      0  2.000000    0  0.000000  1.000000     0           0     0   \n",
       "1        1      1  3.000000    1  3.000000  0.000000     1           0     0   \n",
       "2        1      0  2.000000    0  2.000000  1.000000     2           0     0   \n",
       "3        1      0  2.000000    0  2.000000  0.000000     2           0     0   \n",
       "4        1      0  2.000000    0  0.000000  0.000000     1           0     0   \n",
       "...    ...    ...       ...  ...       ...       ...   ...         ...   ...   \n",
       "2106     1      0  1.728139    0  1.676269  0.906247     1           0     0   \n",
       "2107     1      0  2.005130    0  1.341390  0.599270     1           0     0   \n",
       "2108     1      0  2.054193    0  1.414209  0.646288     1           0     0   \n",
       "2109     1      0  2.852339    0  1.139107  0.586035     1           0     0   \n",
       "2110     1      0  2.863513    0  1.026452  0.714137     1           0     0   \n",
       "\n",
       "      Motorbike  Public_Transportation  Walking  NObeyesdad  \n",
       "0             0                      1        0           0  \n",
       "1             0                      1        0           0  \n",
       "2             0                      1        0           0  \n",
       "3             0                      0        1           0  \n",
       "4             0                      1        0           0  \n",
       "...         ...                    ...      ...         ...  \n",
       "2106          0                      1        0           1  \n",
       "2107          0                      1        0           1  \n",
       "2108          0                      1        0           1  \n",
       "2109          0                      1        0           1  \n",
       "2110          0                      1        0           1  \n",
       "\n",
       "[2111 rows x 19 columns]"
      ]
     },
     "execution_count": 4,
     "metadata": {},
     "output_type": "execute_result"
    }
   ],
   "source": [
    "ob_df"
   ]
  },
  {
   "cell_type": "code",
   "execution_count": 5,
   "id": "15342f8e-f06f-400c-a225-65d6cf04c2fa",
   "metadata": {},
   "outputs": [
    {
     "data": {
      "text/plain": [
       "Gender                            0\n",
       "Age                               0\n",
       "family_history_with_overweight    0\n",
       "FAVC                              0\n",
       "FCVC                              0\n",
       "NCP                               0\n",
       "CAEC                              0\n",
       "SMOKE                             0\n",
       "CH2O                              0\n",
       "SCC                               0\n",
       "FAF                               0\n",
       "TUE                               0\n",
       "CALC                              0\n",
       "Automobile                        0\n",
       "Bike                              0\n",
       "Motorbike                         0\n",
       "Public_Transportation             0\n",
       "Walking                           0\n",
       "NObeyesdad                        0\n",
       "dtype: int64"
      ]
     },
     "execution_count": 5,
     "metadata": {},
     "output_type": "execute_result"
    }
   ],
   "source": [
    "ob_df.isnull().sum()"
   ]
  },
  {
   "cell_type": "code",
   "execution_count": 6,
   "id": "554f8ea0-27eb-412d-b2fd-82a16e84dbe9",
   "metadata": {},
   "outputs": [
    {
     "data": {
      "text/plain": [
       "Gender                              int64\n",
       "Age                               float64\n",
       "family_history_with_overweight      int64\n",
       "FAVC                                int64\n",
       "FCVC                              float64\n",
       "NCP                               float64\n",
       "CAEC                                int64\n",
       "SMOKE                               int64\n",
       "CH2O                              float64\n",
       "SCC                                 int64\n",
       "FAF                               float64\n",
       "TUE                               float64\n",
       "CALC                                int64\n",
       "Automobile                          int64\n",
       "Bike                                int64\n",
       "Motorbike                           int64\n",
       "Public_Transportation               int64\n",
       "Walking                             int64\n",
       "NObeyesdad                          int64\n",
       "dtype: object"
      ]
     },
     "execution_count": 6,
     "metadata": {},
     "output_type": "execute_result"
    }
   ],
   "source": [
    "ob_df.dtypes"
   ]
  },
  {
   "cell_type": "code",
   "execution_count": 7,
   "id": "bbc18286-bb08-45d1-a403-61d4cae7f8d3",
   "metadata": {},
   "outputs": [
    {
     "data": {
      "text/plain": [
       "2111"
      ]
     },
     "execution_count": 7,
     "metadata": {},
     "output_type": "execute_result"
    }
   ],
   "source": [
    "len(ob_df)"
   ]
  },
  {
   "cell_type": "markdown",
   "id": "a0b3330c-6799-48c9-9539-272b27c3b173",
   "metadata": {},
   "source": [
    "# <b id=\"section_2\">  </b> <b style='color:#F05454'>Observation 1 </b> <b></b> "
   ]
  },
  {
   "cell_type": "code",
   "execution_count": 8,
   "id": "dded294a-f2b6-4b3b-ab40-8844a8d0454e",
   "metadata": {},
   "outputs": [
    {
     "data": {
      "text/plain": [
       "family_history_with_overweight\n",
       "1    1726\n",
       "0     385\n",
       "Name: count, dtype: int64"
      ]
     },
     "execution_count": 8,
     "metadata": {},
     "output_type": "execute_result"
    }
   ],
   "source": [
    "ob_df['family_history_with_overweight'].value_counts()"
   ]
  },
  {
   "cell_type": "code",
   "execution_count": 9,
   "id": "b424f426-8ac1-46ae-b6f6-6b227978649a",
   "metadata": {},
   "outputs": [
    {
     "data": {
      "text/html": [
       "<div>\n",
       "<style scoped>\n",
       "    .dataframe tbody tr th:only-of-type {\n",
       "        vertical-align: middle;\n",
       "    }\n",
       "\n",
       "    .dataframe tbody tr th {\n",
       "        vertical-align: top;\n",
       "    }\n",
       "\n",
       "    .dataframe thead th {\n",
       "        text-align: right;\n",
       "    }\n",
       "</style>\n",
       "<table border=\"1\" class=\"dataframe\">\n",
       "  <thead>\n",
       "    <tr style=\"text-align: right;\">\n",
       "      <th></th>\n",
       "      <th>NObeyesdad</th>\n",
       "    </tr>\n",
       "    <tr>\n",
       "      <th>family_history_with_overweight</th>\n",
       "      <th></th>\n",
       "    </tr>\n",
       "  </thead>\n",
       "  <tbody>\n",
       "    <tr>\n",
       "      <th>0</th>\n",
       "      <td>8</td>\n",
       "    </tr>\n",
       "    <tr>\n",
       "      <th>1</th>\n",
       "      <td>964</td>\n",
       "    </tr>\n",
       "  </tbody>\n",
       "</table>\n",
       "</div>"
      ],
      "text/plain": [
       "                                NObeyesdad\n",
       "family_history_with_overweight            \n",
       "0                                        8\n",
       "1                                      964"
      ]
     },
     "execution_count": 9,
     "metadata": {},
     "output_type": "execute_result"
    }
   ],
   "source": [
    "ob_df.groupby('family_history_with_overweight')[['NObeyesdad']].sum()"
   ]
  },
  {
   "cell_type": "markdown",
   "id": "308ddcbc-6f5c-4945-9402-0d5c3675f6b5",
   "metadata": {},
   "source": [
    "כאשר בחנו את נתוני הקובץ, עניין אותנו לדעת כמה השפעה יש להיסטורייה המשפחתית של הנבדק. כאשר בדקנו כמה אנשים מתוך בעלי ההיסטוריה המשפחתית של השמנת יתר מאובחנים גם הם בהשמנת יתר וכמה אנשים שאינם בעלי היסטוריה משפחתית מאובחנים בהשמנת יתר ראינו כי ההבדלים ביחסים ניכרים. "
   ]
  },
  {
   "cell_type": "code",
   "execution_count": 10,
   "id": "05ad7eb3-43e7-4166-a95f-1c66f3a21479",
   "metadata": {},
   "outputs": [],
   "source": [
    "with_family_history = ob_df[ob_df['family_history_with_overweight'] == 1]\n",
    "without_family_history = ob_df[ob_df['family_history_with_overweight'] == 0]"
   ]
  },
  {
   "cell_type": "code",
   "execution_count": 11,
   "id": "4c643ef0-d67b-4f90-aa6c-c170a07d54be",
   "metadata": {},
   "outputs": [
    {
     "data": {
      "image/png": "[encoded data removed]",
      "text/plain": [
       "<Figure size 1000x400 with 2 Axes>"
      ]
     },
     "metadata": {},
     "output_type": "display_data"
    }
   ],
   "source": [
    "colors = [\"#B7E4C7\", \"#7BCDAE\"]\n",
    "\n",
    "# Create subplots\n",
    "fig, ax = plt.subplots(1, 2, figsize=(10, 4))\n",
    "plt.subplots_adjust(wspace=0.4)\n",
    "\n",
    "# Plot the countplot for individuals with a family history of being overweight\n",
    "sns.countplot(data=with_family_history, x='NObeyesdad', ax=ax[0], palette=colors)\n",
    "ax[0].set_title('With Family History')\n",
    "ax[0].set_xlabel(' 0 - Not obese, 1 - Obese')\n",
    "ax[0].set_ylabel('Count')\n",
    "ax[0].tick_params(axis='x', rotation=0)\n",
    "\n",
    "# Plot the countplot for individuals without a family history of being overweight\n",
    "sns.countplot(data=without_family_history, x='NObeyesdad', ax=ax[1], palette=colors)\n",
    "ax[1].set_title('Without Family History')\n",
    "ax[1].set_xlabel(' 0 - Not obese, 1 - Obese')\n",
    "ax[1].set_ylabel('Count')\n",
    "ax[1].tick_params(axis='x', rotation=0)\n",
    "\n",
    "\n",
    "plt.show()\n"
   ]
  },
  {
   "cell_type": "code",
   "execution_count": 12,
   "id": "9660d9b3-5d52-4c8d-b5f9-aefceb3ca29d",
   "metadata": {},
   "outputs": [
    {
     "data": {
      "image/png": "[encoded data removed]",
      "text/plain": [
       "<Figure size 1500x600 with 2 Axes>"
      ]
     },
     "metadata": {},
     "output_type": "display_data"
    }
   ],
   "source": [
    "# Count the occurrences of each category in the 'NObeyesdad' column for with_family_history\n",
    "obesity_counts_with = with_family_history['NObeyesdad'].value_counts()\n",
    "\n",
    "# Count the occurrences of each category in the 'NObeyesdad' column for without_family_history\n",
    "obesity_counts_without = without_family_history['NObeyesdad'].value_counts()\n",
    "\n",
    "# Map the counts to 'Obese' and 'Not Obese' labels\n",
    "labels = ['Obese', 'Not Obese']\n",
    "\n",
    "# Prepare data for the first pie chart (with family history)\n",
    "sizes_with = [obesity_counts_with.get(1, 0), obesity_counts_with.get(0, 0)]\n",
    "\n",
    "# Prepare data for the second pie chart (without family history)\n",
    "sizes_without = [obesity_counts_without.get(1, 0), obesity_counts_without.get(0, 0)]\n",
    "\n",
    "# Create subplots with 1 row and 2 columns\n",
    "fig, ax = plt.subplots(nrows=1, ncols=2, figsize=(15, 6))\n",
    "\n",
    "# Plot first pie chart (with family history)\n",
    "ax[0].pie(sizes_with, labels=labels, autopct='%1.1f%%', colors= colors, startangle=90)\n",
    "ax[0].set_title('With Family History')\n",
    "\n",
    "# Plot second pie chart (without family history)\n",
    "ax[1].pie(sizes_without, labels=labels, autopct='%1.1f%%', colors=colors, startangle=90)\n",
    "ax[1].set_title('Without Family History')\n",
    "\n",
    "plt.show()\n"
   ]
  },
  {
   "cell_type": "code",
   "execution_count": null,
   "id": "a1d56fa7-0287-4f66-a2c5-bdce0fe6cd29",
   "metadata": {},
   "outputs": [],
   "source": []
  },
  {
   "cell_type": "code",
   "execution_count": null,
   "id": "8b75662d-0573-48a8-bcfa-463b2da4f935",
   "metadata": {},
   "outputs": [],
   "source": []
  }
 ],
 "metadata": {
  "kernelspec": {
   "display_name": "Python 3 (ipykernel)",
   "language": "python",
   "name": "python3"
  },
  "language_info": {
   "codemirror_mode": {
    "name": "ipython",
    "version": 3
   },
   "file_extension": ".py",
   "mimetype": "text/x-python",
   "name": "python",
   "nbconvert_exporter": "python",
   "pygments_lexer": "ipython3",
   "version": "3.11.7"
  }
 },
 "nbformat": 4,
 "nbformat_minor": 5
}
